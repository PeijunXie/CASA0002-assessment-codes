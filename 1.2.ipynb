{
 "cells": [
  {
   "cell_type": "code",
   "execution_count": 1,
   "id": "0dc80b5a-8ebf-4990-aaad-3546f09b22c1",
   "metadata": {},
   "outputs": [
    {
     "name": "stdout",
     "output_type": "stream",
     "text": [
      "Graph with 401 nodes and 467 edges\n"
     ]
    }
   ],
   "source": [
    "#impact两种方法\n",
    "import networkx as nx\n",
    "import matplotlib.pyplot as plt\n",
    "import pandas as pd\n",
    "from operator import itemgetter\n",
    "\n",
    "G = nx.read_graphml('london.graphml')\n",
    "type(G)\n",
    "print(nx.info(G))"
   ]
  },
  {
   "cell_type": "code",
   "execution_count": 2,
   "id": "93db2676-90a6-4ce8-b6d1-bbd67604a66b",
   "metadata": {},
   "outputs": [
    {
     "data": {
      "text/plain": [
       "401"
      ]
     },
     "execution_count": 2,
     "metadata": {},
     "output_type": "execute_result"
    }
   ],
   "source": [
    "#Global Efficiency\n",
    "G2=G\n",
    "l1=list(G2.nodes)\n",
    "len(l1)"
   ]
  },
  {
   "cell_type": "code",
   "execution_count": 4,
   "id": "4aa955fc-7f46-4f57-84ab-5e79f5283e21",
   "metadata": {},
   "outputs": [
    {
     "data": {
      "text/plain": [
       "0.1012561935972123"
      ]
     },
     "execution_count": 4,
     "metadata": {},
     "output_type": "execute_result"
    }
   ],
   "source": [
    "\n",
    "global_eff=nx.global_efficiency(G2)\n",
    "global_eff\n"
   ]
  },
  {
   "cell_type": "code",
   "execution_count": 5,
   "id": "cdb53238-3e9d-4388-8ded-f2800c5da1b0",
   "metadata": {},
   "outputs": [
    {
     "data": {
      "text/plain": [
       "0.030382377389858693"
      ]
     },
     "execution_count": 5,
     "metadata": {},
     "output_type": "execute_result"
    }
   ],
   "source": [
    "#clustering Coefficient\n",
    "cluster_coe=nx.average_clustering(G2)\n",
    "cluster_coe"
   ]
  },
  {
   "cell_type": "code",
   "execution_count": null,
   "id": "982e7816-0d01-4be2-bb84-0a324af960c8",
   "metadata": {},
   "outputs": [],
   "source": []
  }
 ],
 "metadata": {
  "kernelspec": {
   "display_name": "Python 3 (ipykernel)",
   "language": "python",
   "name": "python3"
  },
  "language_info": {
   "codemirror_mode": {
    "name": "ipython",
    "version": 3
   },
   "file_extension": ".py",
   "mimetype": "text/x-python",
   "name": "python",
   "nbconvert_exporter": "python",
   "pygments_lexer": "ipython3",
   "version": "3.9.6"
  }
 },
 "nbformat": 4,
 "nbformat_minor": 5
}
