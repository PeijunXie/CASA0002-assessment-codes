{
 "cells": [
  {
   "cell_type": "code",
   "execution_count": 1,
   "id": "c3493efd-d272-433b-89db-f7f5f6c1ebf1",
   "metadata": {},
   "outputs": [],
   "source": [
    "import networkx as nx\n",
    "import osmnx as ox\n",
    "import pandas as pd\n",
    "import matplotlib.pyplot as plt\n",
    "import numpy as np\n",
    "from operator import itemgetter"
   ]
  },
  {
   "cell_type": "code",
   "execution_count": 2,
   "id": "5fce8417-e4ab-4be0-b932-3a1c328aa3cf",
   "metadata": {},
   "outputs": [],
   "source": [
    "G = nx.read_graphml('london.graphml')"
   ]
  },
  {
   "cell_type": "code",
   "execution_count": 3,
   "id": "03276fad-b5fb-4bad-a692-148498186eac",
   "metadata": {},
   "outputs": [
    {
     "data": {
      "text/html": [
       "<div>\n",
       "<style scoped>\n",
       "    .dataframe tbody tr th:only-of-type {\n",
       "        vertical-align: middle;\n",
       "    }\n",
       "\n",
       "    .dataframe tbody tr th {\n",
       "        vertical-align: top;\n",
       "    }\n",
       "\n",
       "    .dataframe thead th {\n",
       "        text-align: right;\n",
       "    }\n",
       "</style>\n",
       "<table border=\"1\" class=\"dataframe\">\n",
       "  <thead>\n",
       "    <tr style=\"text-align: right;\">\n",
       "      <th></th>\n",
       "      <th>betweenness_t</th>\n",
       "    </tr>\n",
       "  </thead>\n",
       "  <tbody>\n",
       "    <tr>\n",
       "      <th>Stratford</th>\n",
       "      <td>23768.093434</td>\n",
       "    </tr>\n",
       "    <tr>\n",
       "      <th>Bank and Monument</th>\n",
       "      <td>23181.058947</td>\n",
       "    </tr>\n",
       "    <tr>\n",
       "      <th>Liverpool Street</th>\n",
       "      <td>21610.387049</td>\n",
       "    </tr>\n",
       "    <tr>\n",
       "      <th>King's Cross St. Pancras</th>\n",
       "      <td>20373.521465</td>\n",
       "    </tr>\n",
       "    <tr>\n",
       "      <th>Waterloo</th>\n",
       "      <td>19464.882323</td>\n",
       "    </tr>\n",
       "    <tr>\n",
       "      <th>Green Park</th>\n",
       "      <td>17223.622114</td>\n",
       "    </tr>\n",
       "    <tr>\n",
       "      <th>Euston</th>\n",
       "      <td>16624.275469</td>\n",
       "    </tr>\n",
       "    <tr>\n",
       "      <th>Westminster</th>\n",
       "      <td>16226.155916</td>\n",
       "    </tr>\n",
       "    <tr>\n",
       "      <th>Baker Street</th>\n",
       "      <td>15287.107612</td>\n",
       "    </tr>\n",
       "    <tr>\n",
       "      <th>Finchley Road</th>\n",
       "      <td>13173.758009</td>\n",
       "    </tr>\n",
       "  </tbody>\n",
       "</table>\n",
       "</div>"
      ],
      "text/plain": [
       "                          betweenness_t\n",
       "Stratford                  23768.093434\n",
       "Bank and Monument          23181.058947\n",
       "Liverpool Street           21610.387049\n",
       "King's Cross St. Pancras   20373.521465\n",
       "Waterloo                   19464.882323\n",
       "Green Park                 17223.622114\n",
       "Euston                     16624.275469\n",
       "Westminster                16226.155916\n",
       "Baker Street               15287.107612\n",
       "Finchley Road              13173.758009"
      ]
     },
     "execution_count": 3,
     "metadata": {},
     "output_type": "execute_result"
    }
   ],
   "source": [
    "bet_london_t=nx.betweenness_centrality(G, normalized=False)\n",
    "\n",
    "nx.set_node_attributes(G,bet_london_t,'betweenness_t')\n",
    "\n",
    "\n",
    "df = pd.DataFrame(index=G.nodes())\n",
    "\n",
    "df['betweenness_t'] = pd.Series(nx.get_node_attributes(G, 'betweenness_t'))\n",
    "\n",
    "df_sorted = df.sort_values([\"betweenness_t\"], ascending=False)\n",
    "df_sorted[0:10]"
   ]
  },
  {
   "cell_type": "code",
   "execution_count": 4,
   "id": "7629ed10-020d-4d10-a2ac-4f083851ac6c",
   "metadata": {},
   "outputs": [
    {
     "data": {
      "text/plain": [
       "0.1012561935972123"
      ]
     },
     "execution_count": 4,
     "metadata": {},
     "output_type": "execute_result"
    }
   ],
   "source": [
    "global_eff=nx.global_efficiency(G)\n",
    "global_eff"
   ]
  },
  {
   "cell_type": "code",
   "execution_count": 6,
   "id": "644c876a-d356-42fe-b5a6-b03445a1cb46",
   "metadata": {},
   "outputs": [
    {
     "data": {
      "text/plain": [
       "13.545997506234414"
      ]
     },
     "execution_count": 6,
     "metadata": {},
     "output_type": "execute_result"
    }
   ],
   "source": [
    "average_short=nx.average_shortest_path_length(G)\n",
    "average_short"
   ]
  },
  {
   "cell_type": "code",
   "execution_count": 7,
   "id": "0a83b27e-4079-4104-8ed3-544cb1a7632d",
   "metadata": {},
   "outputs": [
    {
     "data": {
      "text/plain": [
       "['Stratford']"
      ]
     },
     "execution_count": 7,
     "metadata": {},
     "output_type": "execute_result"
    }
   ],
   "source": [
    "degree_values=[(i[1]['betweenness_t']) for i in G.nodes(data=True)]\n",
    "maxbet=[n for n in G.nodes() if G.nodes[n]['betweenness_t'] == max(degree_values)]\n",
    "maxbet"
   ]
  },
  {
   "cell_type": "code",
   "execution_count": 8,
   "id": "3cf5ee8e-69bc-4f66-8c21-7ed29c30d134",
   "metadata": {},
   "outputs": [],
   "source": [
    "G.remove_nodes_from(maxbet)"
   ]
  },
  {
   "cell_type": "code",
   "execution_count": 9,
   "id": "f1934b83-6636-4df3-833f-3fb34e7b58bb",
   "metadata": {},
   "outputs": [
    {
     "data": {
      "text/plain": [
       "0.08891736066510689"
      ]
     },
     "execution_count": 9,
     "metadata": {},
     "output_type": "execute_result"
    }
   ],
   "source": [
    "global_eff=nx.global_efficiency(G)\n",
    "global_eff"
   ]
  },
  {
   "cell_type": "code",
   "execution_count": 10,
   "id": "c34216ad-508a-487f-96be-e51334ed60a8",
   "metadata": {},
   "outputs": [
    {
     "ename": "NetworkXError",
     "evalue": "Graph is not connected.",
     "output_type": "error",
     "traceback": [
      "\u001b[0;31m---------------------------------------------------------------------------\u001b[0m",
      "\u001b[0;31mNetworkXError\u001b[0m                             Traceback (most recent call last)",
      "\u001b[0;32m/tmp/ipykernel_876/1220632231.py\u001b[0m in \u001b[0;36m<module>\u001b[0;34m\u001b[0m\n\u001b[0;32m----> 1\u001b[0;31m \u001b[0maverage_short\u001b[0m\u001b[0;34m=\u001b[0m\u001b[0mnx\u001b[0m\u001b[0;34m.\u001b[0m\u001b[0maverage_shortest_path_length\u001b[0m\u001b[0;34m(\u001b[0m\u001b[0mG\u001b[0m\u001b[0;34m)\u001b[0m\u001b[0;34m\u001b[0m\u001b[0;34m\u001b[0m\u001b[0m\n\u001b[0m\u001b[1;32m      2\u001b[0m \u001b[0maverage_short\u001b[0m\u001b[0;34m\u001b[0m\u001b[0;34m\u001b[0m\u001b[0m\n",
      "\u001b[0;32m/opt/conda/envs/sds2021/lib/python3.9/site-packages/networkx/algorithms/shortest_paths/generic.py\u001b[0m in \u001b[0;36maverage_shortest_path_length\u001b[0;34m(G, weight, method)\u001b[0m\n\u001b[1;32m    387\u001b[0m         \u001b[0;32mraise\u001b[0m \u001b[0mnx\u001b[0m\u001b[0;34m.\u001b[0m\u001b[0mNetworkXError\u001b[0m\u001b[0;34m(\u001b[0m\u001b[0;34m\"Graph is not weakly connected.\"\u001b[0m\u001b[0;34m)\u001b[0m\u001b[0;34m\u001b[0m\u001b[0;34m\u001b[0m\u001b[0m\n\u001b[1;32m    388\u001b[0m     \u001b[0;32mif\u001b[0m \u001b[0;32mnot\u001b[0m \u001b[0mG\u001b[0m\u001b[0;34m.\u001b[0m\u001b[0mis_directed\u001b[0m\u001b[0;34m(\u001b[0m\u001b[0;34m)\u001b[0m \u001b[0;32mand\u001b[0m \u001b[0;32mnot\u001b[0m \u001b[0mnx\u001b[0m\u001b[0;34m.\u001b[0m\u001b[0mis_connected\u001b[0m\u001b[0;34m(\u001b[0m\u001b[0mG\u001b[0m\u001b[0;34m)\u001b[0m\u001b[0;34m:\u001b[0m\u001b[0;34m\u001b[0m\u001b[0;34m\u001b[0m\u001b[0m\n\u001b[0;32m--> 389\u001b[0;31m         \u001b[0;32mraise\u001b[0m \u001b[0mnx\u001b[0m\u001b[0;34m.\u001b[0m\u001b[0mNetworkXError\u001b[0m\u001b[0;34m(\u001b[0m\u001b[0;34m\"Graph is not connected.\"\u001b[0m\u001b[0;34m)\u001b[0m\u001b[0;34m\u001b[0m\u001b[0;34m\u001b[0m\u001b[0m\n\u001b[0m\u001b[1;32m    390\u001b[0m \u001b[0;34m\u001b[0m\u001b[0m\n\u001b[1;32m    391\u001b[0m     \u001b[0;31m# Compute all-pairs shortest paths.\u001b[0m\u001b[0;34m\u001b[0m\u001b[0;34m\u001b[0m\u001b[0;34m\u001b[0m\u001b[0m\n",
      "\u001b[0;31mNetworkXError\u001b[0m: Graph is not connected."
     ]
    }
   ],
   "source": [
    "#注意挪掉一个点后，变成了两个conponent,取最大的值！\n",
    "average_short=nx.average_shortest_path_length(G)\n",
    "average_short"
   ]
  },
  {
   "cell_type": "code",
   "execution_count": 11,
   "id": "6d95eef6-ab3c-4602-ab16-699b3d35c38e",
   "metadata": {},
   "outputs": [
    {
     "name": "stdout",
     "output_type": "stream",
     "text": [
      "Largest Connected Compenent:94.75%\n",
      "Graph with 379 nodes and 438 edges\n",
      "Number of connected components:1\n",
      "Highest degree nodes: \n",
      " \tBank and Monument: 8\n",
      " \tBaker Street: 7\n",
      " \tKing's Cross St. Pancras: 7\n",
      " \tCanning Town: 6\n",
      " \tWaterloo: 6\n"
     ]
    }
   ],
   "source": [
    "# we can see in the plot that the graph has more then one component\n",
    "# let's subset this graph to the largest connected component\n",
    "Gcc = sorted(nx.connected_components(G), key=len, reverse=True)\n",
    "Gsub = G.subgraph(Gcc[0])\n",
    "\n",
    "# calculate the percentage of nodes present in the largest connected components\n",
    "percent_lcc = (len(Gsub.nodes)/len(G.nodes)) * 100\n",
    "\n",
    "lb = '\\n \\t'\n",
    "print(f'Largest Connected Compenent:{percent_lcc:.2f}%')\n",
    "print(nx.info(Gsub))\n",
    "print(f'Number of connected components:{nx.number_connected_components(Gsub)}')\n",
    "print(f\"Highest degree nodes: \\n \\t\" \\\n",
    "        f\"{lb.join(f'{hero[0]}: {hero[1]}' for hero in sorted(Gsub.degree(), key=lambda pair: pair[1], reverse=True)[0:5])}\")"
   ]
  },
  {
   "cell_type": "code",
   "execution_count": 13,
   "id": "f8f832a4-1c5d-45e4-af95-8278c385dc95",
   "metadata": {},
   "outputs": [
    {
     "name": "stdout",
     "output_type": "stream",
     "text": [
      "Graph with 379 nodes and 438 edges\n"
     ]
    }
   ],
   "source": [
    "print(nx.info(Gsub))"
   ]
  },
  {
   "cell_type": "code",
   "execution_count": 14,
   "id": "e0a140cd-4921-49e8-8462-612b5a2d1cba",
   "metadata": {},
   "outputs": [
    {
     "data": {
      "text/plain": [
       "14.496447069006436"
      ]
     },
     "execution_count": 14,
     "metadata": {},
     "output_type": "execute_result"
    }
   ],
   "source": [
    "average_shortGsub=nx.average_shortest_path_length(Gsub)\n",
    "average_shortGsub"
   ]
  },
  {
   "cell_type": "code",
   "execution_count": null,
   "id": "337da70d-8275-4dc6-8c68-25b864224908",
   "metadata": {},
   "outputs": [],
   "source": []
  }
 ],
 "metadata": {
  "kernelspec": {
   "display_name": "Python 3 (ipykernel)",
   "language": "python",
   "name": "python3"
  },
  "language_info": {
   "codemirror_mode": {
    "name": "ipython",
    "version": 3
   },
   "file_extension": ".py",
   "mimetype": "text/x-python",
   "name": "python",
   "nbconvert_exporter": "python",
   "pygments_lexer": "ipython3",
   "version": "3.9.6"
  }
 },
 "nbformat": 4,
 "nbformat_minor": 5
}
