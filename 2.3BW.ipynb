{
 "cells": [
  {
   "cell_type": "code",
   "execution_count": 1,
   "id": "13d1776c-909c-4fcb-a8cf-9e1bb19e5345",
   "metadata": {},
   "outputs": [],
   "source": [
    "import networkx as nx\n",
    "import osmnx as ox\n",
    "import pandas as pd\n",
    "import matplotlib.pyplot as plt\n",
    "import numpy as np\n",
    "from operator import itemgetter"
   ]
  },
  {
   "cell_type": "code",
   "execution_count": 2,
   "id": "ee565f75-083b-41ef-82ba-ad761c76abf2",
   "metadata": {},
   "outputs": [],
   "source": [
    "#BETWEENESS CEN W"
   ]
  },
  {
   "cell_type": "code",
   "execution_count": 3,
   "id": "5ad556b2-fc07-4e22-86b1-3540516cf1ba",
   "metadata": {},
   "outputs": [],
   "source": [
    "G = nx.read_graphml('london.graphml')"
   ]
  },
  {
   "cell_type": "code",
   "execution_count": 4,
   "id": "d0b1be8e-e26b-4eb3-bbdb-544d1275b958",
   "metadata": {},
   "outputs": [],
   "source": [
    "bet_london_w=nx.betweenness_centrality(G,weight='flows',normalized=False)\n",
    "\n",
    "# We can add these values to the nodes attributes:\n",
    "nx.set_node_attributes(G,bet_london_w,'betweenness_w')"
   ]
  },
  {
   "cell_type": "code",
   "execution_count": 5,
   "id": "c23003a5-ce49-4bda-998d-9826b6e1c251",
   "metadata": {},
   "outputs": [
    {
     "data": {
      "text/html": [
       "<div>\n",
       "<style scoped>\n",
       "    .dataframe tbody tr th:only-of-type {\n",
       "        vertical-align: middle;\n",
       "    }\n",
       "\n",
       "    .dataframe tbody tr th {\n",
       "        vertical-align: top;\n",
       "    }\n",
       "\n",
       "    .dataframe thead th {\n",
       "        text-align: right;\n",
       "    }\n",
       "</style>\n",
       "<table border=\"1\" class=\"dataframe\">\n",
       "  <thead>\n",
       "    <tr style=\"text-align: right;\">\n",
       "      <th></th>\n",
       "      <th>betweenness_w</th>\n",
       "    </tr>\n",
       "  </thead>\n",
       "  <tbody>\n",
       "    <tr>\n",
       "      <th>West Hampstead</th>\n",
       "      <td>28401.50</td>\n",
       "    </tr>\n",
       "    <tr>\n",
       "      <th>Gospel Oak</th>\n",
       "      <td>21947.00</td>\n",
       "    </tr>\n",
       "    <tr>\n",
       "      <th>Finchley Road &amp; Frognal</th>\n",
       "      <td>21446.00</td>\n",
       "    </tr>\n",
       "    <tr>\n",
       "      <th>Hampstead Heath</th>\n",
       "      <td>21372.00</td>\n",
       "    </tr>\n",
       "    <tr>\n",
       "      <th>Willesden Junction</th>\n",
       "      <td>19166.50</td>\n",
       "    </tr>\n",
       "    <tr>\n",
       "      <th>Leicester Square</th>\n",
       "      <td>17097.75</td>\n",
       "    </tr>\n",
       "    <tr>\n",
       "      <th>Brondesbury</th>\n",
       "      <td>16526.00</td>\n",
       "    </tr>\n",
       "    <tr>\n",
       "      <th>Brondesbury Park</th>\n",
       "      <td>16411.50</td>\n",
       "    </tr>\n",
       "    <tr>\n",
       "      <th>Kensal Rise</th>\n",
       "      <td>16299.75</td>\n",
       "    </tr>\n",
       "    <tr>\n",
       "      <th>Blackhorse Road</th>\n",
       "      <td>16091.75</td>\n",
       "    </tr>\n",
       "  </tbody>\n",
       "</table>\n",
       "</div>"
      ],
      "text/plain": [
       "                         betweenness_w\n",
       "West Hampstead                28401.50\n",
       "Gospel Oak                    21947.00\n",
       "Finchley Road & Frognal       21446.00\n",
       "Hampstead Heath               21372.00\n",
       "Willesden Junction            19166.50\n",
       "Leicester Square              17097.75\n",
       "Brondesbury                   16526.00\n",
       "Brondesbury Park              16411.50\n",
       "Kensal Rise                   16299.75\n",
       "Blackhorse Road               16091.75"
      ]
     },
     "execution_count": 5,
     "metadata": {},
     "output_type": "execute_result"
    }
   ],
   "source": [
    "# To dataframe using the nodes as the index\n",
    "df = pd.DataFrame(index=G.nodes())\n",
    "\n",
    "df['betweenness_w'] = pd.Series(nx.get_node_attributes(G, 'betweenness_w'))\n",
    "\n",
    "df_sorted = df.sort_values([\"betweenness_w\"], ascending=False)\n",
    "df_sorted[0:10]"
   ]
  },
  {
   "cell_type": "code",
   "execution_count": 6,
   "id": "a03d7d4a-90be-4ee2-8ff1-193c905d7f23",
   "metadata": {},
   "outputs": [
    {
     "name": "stdout",
     "output_type": "stream",
     "text": [
      "0.1012561935972123\n"
     ]
    }
   ],
   "source": [
    "global_eff=nx.global_efficiency(G)\n",
    "global_eff\n",
    "print(global_eff)"
   ]
  },
  {
   "cell_type": "code",
   "execution_count": 7,
   "id": "d478b144-5742-40c9-89db-3eb47b88dbbc",
   "metadata": {},
   "outputs": [
    {
     "data": {
      "text/plain": [
       "13.545997506234414"
      ]
     },
     "execution_count": 7,
     "metadata": {},
     "output_type": "execute_result"
    }
   ],
   "source": [
    "average_shortG=nx.average_shortest_path_length(G)\n",
    "average_shortG"
   ]
  },
  {
   "cell_type": "code",
   "execution_count": 8,
   "id": "0219864b-ff4e-42b9-8595-10aeca72eb09",
   "metadata": {},
   "outputs": [],
   "source": [
    "#2.3"
   ]
  },
  {
   "cell_type": "code",
   "execution_count": 9,
   "id": "1c162b7d-ac10-4b52-b117-8f56b1961a25",
   "metadata": {},
   "outputs": [],
   "source": [
    "#BW删点"
   ]
  },
  {
   "cell_type": "code",
   "execution_count": 10,
   "id": "284c6970-2f65-4f90-968a-282bad8d9027",
   "metadata": {},
   "outputs": [],
   "source": [
    "BW=G.copy()"
   ]
  },
  {
   "cell_type": "code",
   "execution_count": 11,
   "id": "e544e72a-7d60-44f9-8f10-884b0fe87516",
   "metadata": {},
   "outputs": [],
   "source": [
    "bet_london_w=nx.betweenness_centrality(BW,weight='flows',normalized=False)\n",
    "\n",
    "nx.set_node_attributes(BW,bet_london_w,'betweenness_w')"
   ]
  },
  {
   "cell_type": "code",
   "execution_count": 12,
   "id": "794ce344-b101-49aa-ae5b-9c6327daeace",
   "metadata": {},
   "outputs": [
    {
     "data": {
      "text/html": [
       "<div>\n",
       "<style scoped>\n",
       "    .dataframe tbody tr th:only-of-type {\n",
       "        vertical-align: middle;\n",
       "    }\n",
       "\n",
       "    .dataframe tbody tr th {\n",
       "        vertical-align: top;\n",
       "    }\n",
       "\n",
       "    .dataframe thead th {\n",
       "        text-align: right;\n",
       "    }\n",
       "</style>\n",
       "<table border=\"1\" class=\"dataframe\">\n",
       "  <thead>\n",
       "    <tr style=\"text-align: right;\">\n",
       "      <th></th>\n",
       "      <th>betweenness_w</th>\n",
       "    </tr>\n",
       "  </thead>\n",
       "  <tbody>\n",
       "    <tr>\n",
       "      <th>West Hampstead</th>\n",
       "      <td>28401.50</td>\n",
       "    </tr>\n",
       "    <tr>\n",
       "      <th>Gospel Oak</th>\n",
       "      <td>21947.00</td>\n",
       "    </tr>\n",
       "    <tr>\n",
       "      <th>Finchley Road &amp; Frognal</th>\n",
       "      <td>21446.00</td>\n",
       "    </tr>\n",
       "    <tr>\n",
       "      <th>Hampstead Heath</th>\n",
       "      <td>21372.00</td>\n",
       "    </tr>\n",
       "    <tr>\n",
       "      <th>Willesden Junction</th>\n",
       "      <td>19166.50</td>\n",
       "    </tr>\n",
       "    <tr>\n",
       "      <th>Leicester Square</th>\n",
       "      <td>17097.75</td>\n",
       "    </tr>\n",
       "    <tr>\n",
       "      <th>Brondesbury</th>\n",
       "      <td>16526.00</td>\n",
       "    </tr>\n",
       "    <tr>\n",
       "      <th>Brondesbury Park</th>\n",
       "      <td>16411.50</td>\n",
       "    </tr>\n",
       "    <tr>\n",
       "      <th>Kensal Rise</th>\n",
       "      <td>16299.75</td>\n",
       "    </tr>\n",
       "    <tr>\n",
       "      <th>Blackhorse Road</th>\n",
       "      <td>16091.75</td>\n",
       "    </tr>\n",
       "  </tbody>\n",
       "</table>\n",
       "</div>"
      ],
      "text/plain": [
       "                         betweenness_w\n",
       "West Hampstead                28401.50\n",
       "Gospel Oak                    21947.00\n",
       "Finchley Road & Frognal       21446.00\n",
       "Hampstead Heath               21372.00\n",
       "Willesden Junction            19166.50\n",
       "Leicester Square              17097.75\n",
       "Brondesbury                   16526.00\n",
       "Brondesbury Park              16411.50\n",
       "Kensal Rise                   16299.75\n",
       "Blackhorse Road               16091.75"
      ]
     },
     "execution_count": 12,
     "metadata": {},
     "output_type": "execute_result"
    }
   ],
   "source": [
    "\n",
    "df = pd.DataFrame(index=BW.nodes())\n",
    "\n",
    "df['betweenness_w'] = pd.Series(nx.get_node_attributes(BW, 'betweenness_w'))\n",
    "\n",
    "df_sorted = df.sort_values([\"betweenness_w\"], ascending=False)\n",
    "df_sorted[0:10]"
   ]
  },
  {
   "cell_type": "code",
   "execution_count": 13,
   "id": "5b4d87f5-5e78-484e-b3f3-28884ac8cd5b",
   "metadata": {},
   "outputs": [
    {
     "data": {
      "text/plain": [
       "['West Hampstead']"
      ]
     },
     "execution_count": 13,
     "metadata": {},
     "output_type": "execute_result"
    }
   ],
   "source": [
    "betweenness_w_values=[(i[1]['betweenness_w']) for i in BW.nodes(data=True)]\n",
    "maxbet=[n for n in BW.nodes() if BW.nodes[n]['betweenness_w'] == max(betweenness_w_values)]\n",
    "maxbet"
   ]
  },
  {
   "cell_type": "code",
   "execution_count": 14,
   "id": "c2fbd693-0330-4617-b3cf-ce558c6366af",
   "metadata": {},
   "outputs": [],
   "source": [
    "BW.remove_nodes_from(maxbet)"
   ]
  },
  {
   "cell_type": "code",
   "execution_count": 15,
   "id": "9fc77fc0-6a4d-4565-8026-cd0bb1edcb22",
   "metadata": {},
   "outputs": [
    {
     "data": {
      "text/plain": [
       "0.10005038744672845"
      ]
     },
     "execution_count": 15,
     "metadata": {},
     "output_type": "execute_result"
    }
   ],
   "source": [
    "global_effBW=nx.global_efficiency(BW)\n",
    "global_effBW\n"
   ]
  },
  {
   "cell_type": "code",
   "execution_count": 16,
   "id": "1203150e-070a-4755-8477-71fad3665697",
   "metadata": {},
   "outputs": [
    {
     "data": {
      "text/plain": [
       "13.710764411027569"
      ]
     },
     "execution_count": 16,
     "metadata": {},
     "output_type": "execute_result"
    }
   ],
   "source": [
    "average_shortBW=nx.average_shortest_path_length(BW)\n",
    "average_shortBW"
   ]
  },
  {
   "cell_type": "code",
   "execution_count": null,
   "id": "60738f2e-34fa-4517-b6ac-4330e6090cd2",
   "metadata": {},
   "outputs": [],
   "source": []
  }
 ],
 "metadata": {
  "kernelspec": {
   "display_name": "Python 3 (ipykernel)",
   "language": "python",
   "name": "python3"
  },
  "language_info": {
   "codemirror_mode": {
    "name": "ipython",
    "version": 3
   },
   "file_extension": ".py",
   "mimetype": "text/x-python",
   "name": "python",
   "nbconvert_exporter": "python",
   "pygments_lexer": "ipython3",
   "version": "3.9.6"
  }
 },
 "nbformat": 4,
 "nbformat_minor": 5
}
