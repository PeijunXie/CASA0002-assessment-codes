{
 "cells": [
  {
   "cell_type": "code",
   "execution_count": null,
   "id": "0dc2f9a1-64c6-4276-9a7b-1c3248f86195",
   "metadata": {},
   "outputs": [],
   "source": [
    "#4.2"
   ]
  },
  {
   "cell_type": "code",
   "execution_count": 1,
   "id": "ad9f73fc-80a0-451a-bf65-f0776c9124f6",
   "metadata": {},
   "outputs": [],
   "source": [
    "#import the necessary libraries \n",
    "import pandas as pd\n",
    "import matplotlib.pyplot as plt\n",
    "import geopandas as gpd\n",
    "import seaborn as sns\n",
    "import folium\n",
    "import statsmodels.api as sm\n",
    "import scipy.stats\n",
    "import numpy as np\n",
    "from math import sqrt\n",
    "import statsmodels.formula.api as smf\n",
    "import osmnx as ox"
   ]
  },
  {
   "cell_type": "code",
   "execution_count": 2,
   "id": "0ec23e66-a50d-41b5-a4f2-07560e899cb1",
   "metadata": {},
   "outputs": [],
   "source": [
    "cdatasub = pd.read_csv(\"london_flows.csv\")"
   ]
  },
  {
   "cell_type": "code",
   "execution_count": 3,
   "id": "2a46e1ea-73b1-40bf-a986-ba7fe5b7d7b8",
   "metadata": {},
   "outputs": [
    {
     "data": {
      "text/html": [
       "<div>\n",
       "<style scoped>\n",
       "    .dataframe tbody tr th:only-of-type {\n",
       "        vertical-align: middle;\n",
       "    }\n",
       "\n",
       "    .dataframe tbody tr th {\n",
       "        vertical-align: top;\n",
       "    }\n",
       "\n",
       "    .dataframe thead th {\n",
       "        text-align: right;\n",
       "    }\n",
       "</style>\n",
       "<table border=\"1\" class=\"dataframe\">\n",
       "  <thead>\n",
       "    <tr style=\"text-align: right;\">\n",
       "      <th></th>\n",
       "      <th>station_origin</th>\n",
       "      <th>station_destination</th>\n",
       "      <th>flows</th>\n",
       "      <th>population</th>\n",
       "      <th>jobs</th>\n",
       "      <th>distance</th>\n",
       "    </tr>\n",
       "  </thead>\n",
       "  <tbody>\n",
       "    <tr>\n",
       "      <th>0</th>\n",
       "      <td>Abbey Road</td>\n",
       "      <td>Bank and Monument</td>\n",
       "      <td>0</td>\n",
       "      <td>599</td>\n",
       "      <td>78549</td>\n",
       "      <td>8131.525097</td>\n",
       "    </tr>\n",
       "    <tr>\n",
       "      <th>1</th>\n",
       "      <td>Abbey Road</td>\n",
       "      <td>Beckton</td>\n",
       "      <td>1</td>\n",
       "      <td>599</td>\n",
       "      <td>442</td>\n",
       "      <td>8510.121774</td>\n",
       "    </tr>\n",
       "    <tr>\n",
       "      <th>2</th>\n",
       "      <td>Abbey Road</td>\n",
       "      <td>Blackwall</td>\n",
       "      <td>3</td>\n",
       "      <td>599</td>\n",
       "      <td>665</td>\n",
       "      <td>3775.448872</td>\n",
       "    </tr>\n",
       "    <tr>\n",
       "      <th>3</th>\n",
       "      <td>Abbey Road</td>\n",
       "      <td>Canary Wharf</td>\n",
       "      <td>1</td>\n",
       "      <td>599</td>\n",
       "      <td>58772</td>\n",
       "      <td>5086.514220</td>\n",
       "    </tr>\n",
       "    <tr>\n",
       "      <th>4</th>\n",
       "      <td>Abbey Road</td>\n",
       "      <td>Canning Town</td>\n",
       "      <td>37</td>\n",
       "      <td>599</td>\n",
       "      <td>15428</td>\n",
       "      <td>2228.923167</td>\n",
       "    </tr>\n",
       "    <tr>\n",
       "      <th>5</th>\n",
       "      <td>Abbey Road</td>\n",
       "      <td>Crossharbour</td>\n",
       "      <td>1</td>\n",
       "      <td>599</td>\n",
       "      <td>1208</td>\n",
       "      <td>6686.475560</td>\n",
       "    </tr>\n",
       "    <tr>\n",
       "      <th>6</th>\n",
       "      <td>Abbey Road</td>\n",
       "      <td>Custom House</td>\n",
       "      <td>0</td>\n",
       "      <td>599</td>\n",
       "      <td>845</td>\n",
       "      <td>3824.855630</td>\n",
       "    </tr>\n",
       "    <tr>\n",
       "      <th>7</th>\n",
       "      <td>Abbey Road</td>\n",
       "      <td>Cutty Sark</td>\n",
       "      <td>2</td>\n",
       "      <td>599</td>\n",
       "      <td>1748</td>\n",
       "      <td>8503.898909</td>\n",
       "    </tr>\n",
       "    <tr>\n",
       "      <th>8</th>\n",
       "      <td>Abbey Road</td>\n",
       "      <td>Cyprus</td>\n",
       "      <td>7</td>\n",
       "      <td>599</td>\n",
       "      <td>850</td>\n",
       "      <td>6532.099618</td>\n",
       "    </tr>\n",
       "    <tr>\n",
       "      <th>9</th>\n",
       "      <td>Abbey Road</td>\n",
       "      <td>Devons Road</td>\n",
       "      <td>1</td>\n",
       "      <td>599</td>\n",
       "      <td>611</td>\n",
       "      <td>3958.324171</td>\n",
       "    </tr>\n",
       "  </tbody>\n",
       "</table>\n",
       "</div>"
      ],
      "text/plain": [
       "  station_origin station_destination  flows  population   jobs     distance\n",
       "0     Abbey Road   Bank and Monument      0         599  78549  8131.525097\n",
       "1     Abbey Road             Beckton      1         599    442  8510.121774\n",
       "2     Abbey Road           Blackwall      3         599    665  3775.448872\n",
       "3     Abbey Road        Canary Wharf      1         599  58772  5086.514220\n",
       "4     Abbey Road        Canning Town     37         599  15428  2228.923167\n",
       "5     Abbey Road        Crossharbour      1         599   1208  6686.475560\n",
       "6     Abbey Road        Custom House      0         599    845  3824.855630\n",
       "7     Abbey Road          Cutty Sark      2         599   1748  8503.898909\n",
       "8     Abbey Road              Cyprus      7         599    850  6532.099618\n",
       "9     Abbey Road         Devons Road      1         599    611  3958.324171"
      ]
     },
     "execution_count": 3,
     "metadata": {},
     "output_type": "execute_result"
    }
   ],
   "source": [
    "cdatasub.head(10)"
   ]
  },
  {
   "cell_type": "code",
   "execution_count": null,
   "id": "fe1fcd56-aa70-4b12-a4b1-d16e4bb0dc5b",
   "metadata": {},
   "outputs": [],
   "source": [
    "# Run a doubly constrained SIM with a negative exponential cost function.\n",
    "doubsim_form = \"flows ~ station_origin + station_destination + distances \"\n",
    "doubsim1 = smf.glm(formula=doubsim_form, data = cdatasub, family = sm.families.Poisson()).fit()\n",
    "print(doubsim1.summary())"
   ]
  },
  {
   "cell_type": "code",
   "execution_count": null,
   "id": "b58d8815-082b-4afb-85aa-d63b99a25a86",
   "metadata": {},
   "outputs": [],
   "source": [
    "# sorry my computer can not run this model.\n"
   ]
  },
  {
   "cell_type": "code",
   "execution_count": null,
   "id": "35cc3346-c99a-467b-b175-2f0038fde9a1",
   "metadata": {},
   "outputs": [],
   "source": [
    "#Then allpy the \"β\" with different values, for example, β=0.3，β=3then check the flows"
   ]
  }
 ],
 "metadata": {
  "kernelspec": {
   "display_name": "Python 3 (ipykernel)",
   "language": "python",
   "name": "python3"
  },
  "language_info": {
   "codemirror_mode": {
    "name": "ipython",
    "version": 3
   },
   "file_extension": ".py",
   "mimetype": "text/x-python",
   "name": "python",
   "nbconvert_exporter": "python",
   "pygments_lexer": "ipython3",
   "version": "3.9.6"
  }
 },
 "nbformat": 4,
 "nbformat_minor": 5
}
